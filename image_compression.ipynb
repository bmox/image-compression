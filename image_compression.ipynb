{
  "nbformat": 4,
  "nbformat_minor": 0,
  "metadata": {
    "colab": {
      "name": "image compression ",
      "provenance": [],
      "collapsed_sections": [],
      "authorship_tag": "ABX9TyOVdCnk0LeZAwEbRmxvEQ1y",
      "include_colab_link": true
    },
    "kernelspec": {
      "name": "python3",
      "display_name": "Python 3"
    }
  },
  "cells": [
    {
      "cell_type": "markdown",
      "metadata": {
        "id": "view-in-github",
        "colab_type": "text"
      },
      "source": [
        "<a href=\"https://colab.research.google.com/github/bmox/image-compression/blob/main/image_compression.ipynb\" target=\"_parent\"><img src=\"https://colab.research.google.com/assets/colab-badge.svg\" alt=\"Open In Colab\"/></a>"
      ]
    },
    {
      "cell_type": "markdown",
      "metadata": {
        "id": "dsSuLJlK8guh"
      },
      "source": [
        "I hear about this api name from [this](https://youtu.be/mTZ5loRYVgQ) channel. Then I create my version.<br>\r\n",
        "First visit https://tinypng.com/developers . Then give a name and email address to get the api key. Only first 500 images are free. So if you think your data is important, use your real email address with only 500 images. But if you thinking your data is not important then use any disposable mail like https://temp-mail.org/ and with every mail you will get 500 images upload option.Then copy the tinify api key.\r\n"
      ]
    },
    {
      "cell_type": "code",
      "metadata": {
        "id": "ve7Ys4mwcXNS"
      },
      "source": [
        "# @title ##**Install required modules** { display-mode: \"form\" }\r\n",
        "from IPython.display import clear_output\r\n",
        "!pip3 install tinify\r\n",
        "!pip3 install --upgrade tinify\r\n",
        "!pip3 install kora\r\n",
        "clear_output()"
      ],
      "execution_count": 260,
      "outputs": []
    },
    {
      "cell_type": "code",
      "metadata": {
        "colab": {
          "base_uri": "https://localhost:8080/"
        },
        "id": "Ku9toLtR8_8C",
        "outputId": "5f3c1b62-8cc6-4d2f-a008-8ceaf157c9da"
      },
      "source": [
        "# @title ##**Enter your api key** { display-mode: \"form\" }\r\n",
        "\r\n",
        "Enter_tinify_api_key= \"qcs5R3BgP8hgH9jXwkpzm2fwyXnZgDqv\" #@param {type:\"string\"}\r\n",
        "\r\n",
        "try:\r\n",
        "  tinify.key = Enter_tinify_api_key\r\n",
        "  tinify.validate()\r\n",
        "  print(\"Authentication Successful\")\r\n",
        "except Exception as e:\r\n",
        "  print(\"Authentication failed!\")\r\n",
        "  print(str(e))"
      ],
      "execution_count": 280,
      "outputs": [
        {
          "output_type": "stream",
          "text": [
            "Authentication Successful\n"
          ],
          "name": "stdout"
        }
      ]
    },
    {
      "cell_type": "code",
      "metadata": {
        "colab": {
          "base_uri": "https://localhost:8080/"
        },
        "id": "LlAMcLW4gnvO",
        "outputId": "e47b5cd5-41d9-4c36-becc-5097a40b6104"
      },
      "source": [
        "# @title ##**Select storage type** { display-mode: \"form\" }\r\n",
        "\r\n",
        "from google.colab import drive\r\n",
        "from google.colab import output\r\n",
        "from google.colab import files\r\n",
        "from google.colab.output import eval_js\r\n",
        "from IPython.display import display, Javascript\r\n",
        "from base64 import b64decode\r\n",
        "import requests\r\n",
        "import math\r\n",
        "import os\r\n",
        "import glob\r\n",
        "import tinify\r\n",
        "storage=\"google drive\"#@param[\"temporary\",\"google drive\"]\r\n",
        "if storage==\"google drive\":\r\n",
        "  drive.mount('/content/gdrive')\r\n",
        "  clear_output()\r\n",
        "  print(\"Using drive as a storage\")\r\n",
        "elif storage==\"temporary\":\r\n",
        "  os.chdir(\"/content/\")\r\n",
        "  print(\"Using colab as a storage\")\r\n",
        "\r\n",
        "\r\n",
        "if storage==\"temporary\":  \r\n",
        "      os.chdir(\"/content/\")\r\n",
        "      try:\r\n",
        "        os.mkdir(\"tinify\")\r\n",
        "        os.chdir(\"/content/tinify\")\r\n",
        "        try:\r\n",
        "          os.mkdir(\"input\")\r\n",
        "          os.mkdir(\"output\")\r\n",
        "        except:\r\n",
        "          pass\r\n",
        "      except:\r\n",
        "        os.chdir(\"/content/tinify\")\r\n",
        "        try:\r\n",
        "          os.mkdir(\"input\")\r\n",
        "          os.mkdir(\"output\")\r\n",
        "        except:\r\n",
        "          pass\r\n",
        "\r\n",
        "elif storage==\"google drive\":     \r\n",
        "  os.chdir(\"/content/gdrive/MyDrive\")\r\n",
        "  try:\r\n",
        "    os.mkdir(\"tinify\")\r\n",
        "    os.chdir(\"/content/gdrive/MyDrive/tinify\")\r\n",
        "    try:\r\n",
        "      os.mkdir(\"input\")\r\n",
        "      os.mkdir(\"output\")\r\n",
        "    except:\r\n",
        "       pass\r\n",
        "  except:\r\n",
        "    os.chdir(\"/content/gdrive/MyDrive/tinify\")\r\n",
        "    try:\r\n",
        "      os.mkdir(\"input\")\r\n",
        "      os.mkdir(\"output\")\r\n",
        "    except:\r\n",
        "      pass\r\n",
        "\r\n",
        "\r\n",
        "#success sound notification\r\n",
        "def successful():\r\n",
        "  output.eval_js('new Audio(\"https://www.myinstants.com/media/sounds/anime-wow-sound-effect.mp3\").play()')    \r\n",
        "\r\n",
        "#error sound notification\r\n",
        "def error():\r\n",
        "  output.eval_js('new Audio(\"https://www.myinstants.com/media/sounds/movie_1.mp3\").play()')  \r\n",
        "\r\n",
        "#get file size\r\n",
        "def convert_size(size_bytes):\r\n",
        "   if size_bytes == 0:\r\n",
        "       return \"0B\"\r\n",
        "   size_name = (\"B\", \"KB\", \"MB\", \"GB\", \"TB\", \"PB\", \"EB\", \"ZB\", \"YB\")\r\n",
        "   i = int(math.floor(math.log(size_bytes, 1024)))\r\n",
        "   p = math.pow(1024, i)\r\n",
        "   s = round(size_bytes / p, 2)\r\n",
        "   return \"%s %s\" % (s, size_name[i]) \r\n",
        "#compress file size\r\n",
        "def compress(input_file_path,output_file_path):\r\n",
        "  source = tinify.from_file(input_file_path)\r\n",
        "  source.to_file(output_file_path)\r\n",
        "  size1= os.path.getsize(input_file_path)\r\n",
        "  size2= os.path.getsize(output_file_path)\r\n",
        "  try:\r\n",
        "    print(\"Before compressing:\")\r\n",
        "    print(input_file_path.split(\"/\")[-1]+\" : \"+ convert_size(size1))\r\n",
        "    print(\"After compressing:\")\r\n",
        "    print(output_file_path.split(\"/\")[-1]+\" : \"+convert_size(size2))\r\n",
        "  except:\r\n",
        "    pass\r\n",
        "\r\n",
        "\r\n",
        "#download from google drive\r\n",
        "def download_file_from_google_drive(id, destination):\r\n",
        "    URL = \"https://docs.google.com/uc?export=download\"\r\n",
        "\r\n",
        "    session = requests.Session()\r\n",
        "\r\n",
        "    response = session.get(URL, params = { 'id' : id }, stream = True)\r\n",
        "    token = get_confirm_token(response)\r\n",
        "\r\n",
        "    if token:\r\n",
        "        params = { 'id' : id, 'confirm' : token }\r\n",
        "        response = session.get(URL, params = params, stream = True)\r\n",
        "\r\n",
        "    save_response_content(response, destination)    \r\n",
        "\r\n",
        "def get_confirm_token(response):\r\n",
        "    for key, value in response.cookies.items():\r\n",
        "        if key.startswith('download_warning'):\r\n",
        "            return value\r\n",
        "\r\n",
        "    return None\r\n",
        "\r\n",
        "def save_response_content(response, destination):\r\n",
        "    CHUNK_SIZE = 32768\r\n",
        "\r\n",
        "    with open(destination, \"wb\") as f:\r\n",
        "        for chunk in response.iter_content(CHUNK_SIZE):\r\n",
        "            if chunk: # filter out keep-alive new chunks\r\n",
        "                f.write(chunk)\r\n",
        "\r\n",
        "#capture image\r\n",
        "def take_photo(filename='input_capture.jpg', quality=1):\r\n",
        "  js = Javascript('''\r\n",
        "    async function takePhoto(quality) {\r\n",
        "      const div = document.createElement('div');\r\n",
        "      const capture = document.createElement('button');\r\n",
        "      capture.textContent = 'Capture';\r\n",
        "      div.appendChild(capture);\r\n",
        "\r\n",
        "      const video = document.createElement('video');\r\n",
        "      video.style.display = 'block';\r\n",
        "      const stream = await navigator.mediaDevices.getUserMedia({video: true});\r\n",
        "\r\n",
        "      document.body.appendChild(div);\r\n",
        "      div.appendChild(video);\r\n",
        "      video.srcObject = stream;\r\n",
        "      await video.play();\r\n",
        "\r\n",
        "      // Resize the output to fit the video element.\r\n",
        "      google.colab.output.setIframeHeight(document.documentElement.scrollHeight, true);\r\n",
        "\r\n",
        "      // Wait for Capture to be clicked.\r\n",
        "      await new Promise((resolve) => capture.onclick = resolve);\r\n",
        "\r\n",
        "      const canvas = document.createElement('canvas');\r\n",
        "      canvas.width = video.videoWidth;\r\n",
        "      canvas.height = video.videoHeight;\r\n",
        "      canvas.getContext('2d').drawImage(video, 0, 0);\r\n",
        "      stream.getVideoTracks()[0].stop();\r\n",
        "      div.remove();\r\n",
        "      return canvas.toDataURL('image/jpeg', quality);\r\n",
        "    }\r\n",
        "    ''')\r\n",
        "  display(js)\r\n",
        "  data = eval_js('takePhoto({})'.format(quality))\r\n",
        "  binary = b64decode(data.split(',')[1])\r\n",
        "  with open(filename, 'wb') as f:\r\n",
        "    f.write(binary)\r\n",
        "  return filename   \r\n",
        "\r\n",
        "#get image name\r\n",
        "def get_image_name():\r\n",
        "  image_type=[\".jpg\",\".jpeg\",\".png\",\".PNG\"]\r\n",
        "  image_names=[]\r\n",
        "  for i in image_type:\r\n",
        "    path=os.getcwd()+f\"/*{i}\"\r\n",
        "    for j in glob.glob(path):\r\n",
        "      image_names.append(j)\r\n",
        "  return image_names\r\n",
        "print(f\"We are using this folder: {os.getcwd()}\") \r\n",
        "parent_path=os.getcwd()"
      ],
      "execution_count": 285,
      "outputs": [
        {
          "output_type": "stream",
          "text": [
            "Using drive as a storage\n",
            "We are using this folder: /content/gdrive/MyDrive/tinify\n"
          ],
          "name": "stdout"
        }
      ]
    },
    {
      "cell_type": "markdown",
      "metadata": {
        "id": "7sXMNco8QVvf"
      },
      "source": [
        "<br>\r\n",
        "<br>\r\n",
        "Run this for image.\r\n",
        "<br>\r\n",
        "<br>"
      ]
    },
    {
      "cell_type": "code",
      "metadata": {
        "colab": {
          "base_uri": "https://localhost:8080/"
        },
        "id": "jAkGaKJnlBK_",
        "outputId": "7f313a9d-8963-4bc3-e997-9ceafc79f64a"
      },
      "source": [
        "# @title ##**Image Upload type** { display-mode: \"form\" }\r\n",
        "\r\n",
        "\r\n",
        "\r\n",
        "download_file_in_your_device=\"\"\r\n",
        "parent_path=os.getcwd()\r\n",
        "# print(parent_path)\r\n",
        "os.chdir(parent_path+\"/input/\")\r\n",
        "for i in os.listdir():\r\n",
        "  os.remove(i)\r\n",
        "\r\n",
        "\r\n",
        "upload_type=\"Download a Image\" #@param[\"Upload a image\",\"Download a Image\",\"Paste_path\",\"Take a image\"]\r\n",
        "if upload_type==\"Upload a image\":\r\n",
        "  uploaded = files.upload()\r\n",
        "  clear_output()\r\n",
        "  if not get_image_name():\r\n",
        "    print(\"Upload canceled !\")  \r\n",
        "  else:\r\n",
        "    before_rename=get_image_name()[0].split(\"/\")[-1]\r\n",
        "    input_rename=\"input_\"+before_rename\r\n",
        "    output_rename=\"output_\"+before_rename\r\n",
        "    os.rename(before_rename,input_rename)  \r\n",
        "    \r\n",
        "    compress(get_image_name()[0],parent_path+\"/output/\"+output_rename)\r\n",
        "    # print(get_image_name())  \r\n",
        "    download_file_in_your_device=parent_path+\"/output/\"+output_rename\r\n",
        "\r\n",
        "\r\n",
        "elif upload_type==\"Download a Image\":\r\n",
        "  download_link=input(\"Enter the download link:\")\r\n",
        "  clear_output()\r\n",
        "  if \"drive.google.com\" in  download_link:\r\n",
        "    file_id = download_link.split('/')[-2]\r\n",
        "    give_file_name =\"input.jpg\"\r\n",
        "    try:\r\n",
        "      download_file_from_google_drive(file_id, give_file_name)\r\n",
        "      if not get_image_name():\r\n",
        "        print(\"Upload corrupted !\")\r\n",
        "      else:\r\n",
        "        print(\"Download successful!\")\r\n",
        "        compress(get_image_name()[0],parent_path+\"/output/\"+\"output.jpg\")\r\n",
        "        download_file_in_your_device=parent_path+\"/output/\"+\"output.jpg\"\r\n",
        "\r\n",
        "\r\n",
        "    except:\r\n",
        "      print(\"Download failed try again\")     \r\n",
        "  else: \r\n",
        "    try:\r\n",
        "      source = tinify.from_url(download_link)\r\n",
        "      source.to_file(parent_path+\"/output/optimized.jpg\")\r\n",
        "      download_file_size=os.path.getsize(parent_path+\"/output/optimized.jpg\")\r\n",
        "      download_file_in_your_device=parent_path+\"/output/optimized.jpg\"\r\n",
        "      print(\"After compressing the file size:\")\r\n",
        "      print(f\"optimized.jpg : {convert_size(download_file_size)}\")\r\n",
        "    except:\r\n",
        "      print(\"failed\")\r\n",
        "elif upload_type==\"Paste_path\":\r\n",
        "  paste_path=input(\"Enter image full_path\")\r\n",
        "  clear_output()\r\n",
        "  compress(paste_path,parent_path+\"/output/\"+\"output_\"+paste_path.split(\"/\")[-1])\r\n",
        "  download_file_in_your_device=parent_path+\"/output/\"+\"output_\"+paste_path.split(\"/\")[-1]\r\n",
        "\r\n",
        "#take a image\r\n",
        "elif upload_type==\"Take a image\":\r\n",
        "  try:\r\n",
        "    filename = take_photo()\r\n",
        "    print(\"Image captured successfully.\")\r\n",
        "    # print('Saved to {}'.format(filename))\r\n",
        "    # display(Image(filename))\r\n",
        "    compress(get_image_name()[0],parent_path+\"/output/\"+\"output_capture.jpg\")\r\n",
        "    download_file_in_your_device=parent_path+\"/output/\"+\"output_capture.jpg\"\r\n",
        "  except Exception as err:\r\n",
        "    print(str(err))\r\n",
        "\r\n",
        "os.chdir(parent_path)    "
      ],
      "execution_count": 197,
      "outputs": [
        {
          "output_type": "stream",
          "text": [
            "After compressing the file size:\n",
            "optimized.jpg : 62.23 KB\n"
          ],
          "name": "stdout"
        }
      ]
    },
    {
      "cell_type": "code",
      "metadata": {
        "colab": {
          "base_uri": "https://localhost:8080/",
          "height": 17
        },
        "id": "5p2NEI4h7RAB",
        "outputId": "58f6e36d-1b07-436e-a20a-bdd6b71cf786"
      },
      "source": [
        "# @title ##**Download your compressed image** { display-mode: \"form\" }\r\n",
        "\r\n",
        "files.download(download_file_in_your_device)"
      ],
      "execution_count": 198,
      "outputs": [
        {
          "output_type": "display_data",
          "data": {
            "application/javascript": [
              "\n",
              "    async function download(id, filename, size) {\n",
              "      if (!google.colab.kernel.accessAllowed) {\n",
              "        return;\n",
              "      }\n",
              "      const div = document.createElement('div');\n",
              "      const label = document.createElement('label');\n",
              "      label.textContent = `Downloading \"${filename}\": `;\n",
              "      div.appendChild(label);\n",
              "      const progress = document.createElement('progress');\n",
              "      progress.max = size;\n",
              "      div.appendChild(progress);\n",
              "      document.body.appendChild(div);\n",
              "\n",
              "      const buffers = [];\n",
              "      let downloaded = 0;\n",
              "\n",
              "      const channel = await google.colab.kernel.comms.open(id);\n",
              "      // Send a message to notify the kernel that we're ready.\n",
              "      channel.send({})\n",
              "\n",
              "      for await (const message of channel.messages) {\n",
              "        // Send a message to notify the kernel that we're ready.\n",
              "        channel.send({})\n",
              "        if (message.buffers) {\n",
              "          for (const buffer of message.buffers) {\n",
              "            buffers.push(buffer);\n",
              "            downloaded += buffer.byteLength;\n",
              "            progress.value = downloaded;\n",
              "          }\n",
              "        }\n",
              "      }\n",
              "      const blob = new Blob(buffers, {type: 'application/binary'});\n",
              "      const a = document.createElement('a');\n",
              "      a.href = window.URL.createObjectURL(blob);\n",
              "      a.download = filename;\n",
              "      div.appendChild(a);\n",
              "      a.click();\n",
              "      div.remove();\n",
              "    }\n",
              "  "
            ],
            "text/plain": [
              "<IPython.core.display.Javascript object>"
            ]
          },
          "metadata": {
            "tags": []
          }
        },
        {
          "output_type": "display_data",
          "data": {
            "application/javascript": [
              "download(\"download_b5cd9889-9b63-40e3-92c0-1a213c13c69f\", \"optimized.jpg\", 63725)"
            ],
            "text/plain": [
              "<IPython.core.display.Javascript object>"
            ]
          },
          "metadata": {
            "tags": []
          }
        }
      ]
    },
    {
      "cell_type": "markdown",
      "metadata": {
        "id": "jY2cOo8pQoHQ"
      },
      "source": [
        "<br>\r\n",
        "<br>\r\n",
        "Run this for bulk images.\r\n",
        "<br>\r\n",
        "<br>"
      ]
    },
    {
      "cell_type": "code",
      "metadata": {
        "colab": {
          "base_uri": "https://localhost:8080/"
        },
        "id": "sSHISx5RBQzB",
        "outputId": "ec940fb9-8bde-46ea-e2bb-c285e97fd4e0"
      },
      "source": [
        "# @title ##**For bluk images** { display-mode: \"form\" }\r\n",
        "#@markdown ##### the folder must be\"Anyone with the link\" option\r\n",
        "\r\n",
        "#remove useless folder\r\n",
        "directories=[name for name in os.listdir(\".\") if os.path.isdir(name)]\r\n",
        "directories.remove(\"input\")\r\n",
        "directories.remove(\"output\")\r\n",
        "try:\r\n",
        "  bluck_folder_name=str(directories[0])\r\n",
        "except:\r\n",
        "  pass  \r\n",
        "os.system(\"rm -rf \"+parent_path+\"/\"+bluck_folder_name) \r\n",
        "\r\n",
        "\r\n",
        "#download the folder\r\n",
        "\r\n",
        "# past_drive_folder_link= \"https://drive.google.com/drive/folders/1FOXyEENNGsEPJ7eJ0b-LHuD7FUdm9Srw?usp=sharing\" #@param {type:\"string\"}\r\n",
        "\r\n",
        "# folder_id= past_drive_folder_link.split('/')[-1].split(\"?\")[0]\r\n",
        "drive_folder_id= \"1FOXyEENNGsEPJ7eJ0b-LHuD7FUdm9Srw\" #@param {type:\"string\"}\r\n",
        "\r\n",
        "from kora import drive\r\n",
        "drive.download_folder(drive_folder_id)\r\n",
        "clear_output()\r\n",
        "\r\n",
        "\r\n",
        "\r\n",
        "os.chdir(parent_path)\r\n",
        "directories=[name for name in os.listdir(\".\") if os.path.isdir(name)]\r\n",
        "directories.remove(\"input\")\r\n",
        "directories.remove(\"output\")\r\n",
        "bluck_folder_name=str(directories[0])\r\n",
        "os.chdir(parent_path+\"/\"+bluck_folder_name)\r\n",
        "image_list=get_image_name()\r\n",
        "os.chdir(parent_path)\r\n",
        "os.chdir(parent_path+\"/output\")\r\n",
        "try:\r\n",
        "  os.mkdir(bluck_folder_name)\r\n",
        "except:\r\n",
        "  pass\r\n",
        "os.chdir(parent_path)\r\n",
        "for i in image_list:\r\n",
        "  output_file_name=i.split(\"/\")[-1]\r\n",
        "  compress(i,parent_path+\"/output/\"+bluck_folder_name+\"/\"+output_file_name)\r\n",
        "clear_output()\r\n",
        "\r\n",
        "print(\"The compressed bluck folder path:\")\r\n",
        "print(parent_path+\"/output/\"+bluck_folder_name)  \r\n",
        "os.chdir(parent_path)"
      ],
      "execution_count": 286,
      "outputs": [
        {
          "output_type": "stream",
          "text": [
            "The compressed bluck folder path:\n",
            "/content/gdrive/MyDrive/tinify/output/test2\n"
          ],
          "name": "stdout"
        }
      ]
    },
    {
      "cell_type": "code",
      "metadata": {
        "colab": {
          "base_uri": "https://localhost:8080/",
          "height": 17
        },
        "id": "W7V6kv0gPCTu",
        "outputId": "2057abfc-8b11-4a2d-97ba-34104f8d90bc"
      },
      "source": [
        "# @title ##**Download your bluk images zip file** { display-mode: \"form\" }\r\n",
        "zip_path=parent_path+\"/output/\"+bluck_folder_name\r\n",
        "os.system(f\"zip -r {bluck_folder_name}.zip \"+zip_path)\r\n",
        "files.download(parent_path+\"/\"+bluck_folder_name+\".zip\")"
      ],
      "execution_count": 287,
      "outputs": [
        {
          "output_type": "display_data",
          "data": {
            "application/javascript": [
              "\n",
              "    async function download(id, filename, size) {\n",
              "      if (!google.colab.kernel.accessAllowed) {\n",
              "        return;\n",
              "      }\n",
              "      const div = document.createElement('div');\n",
              "      const label = document.createElement('label');\n",
              "      label.textContent = `Downloading \"${filename}\": `;\n",
              "      div.appendChild(label);\n",
              "      const progress = document.createElement('progress');\n",
              "      progress.max = size;\n",
              "      div.appendChild(progress);\n",
              "      document.body.appendChild(div);\n",
              "\n",
              "      const buffers = [];\n",
              "      let downloaded = 0;\n",
              "\n",
              "      const channel = await google.colab.kernel.comms.open(id);\n",
              "      // Send a message to notify the kernel that we're ready.\n",
              "      channel.send({})\n",
              "\n",
              "      for await (const message of channel.messages) {\n",
              "        // Send a message to notify the kernel that we're ready.\n",
              "        channel.send({})\n",
              "        if (message.buffers) {\n",
              "          for (const buffer of message.buffers) {\n",
              "            buffers.push(buffer);\n",
              "            downloaded += buffer.byteLength;\n",
              "            progress.value = downloaded;\n",
              "          }\n",
              "        }\n",
              "      }\n",
              "      const blob = new Blob(buffers, {type: 'application/binary'});\n",
              "      const a = document.createElement('a');\n",
              "      a.href = window.URL.createObjectURL(blob);\n",
              "      a.download = filename;\n",
              "      div.appendChild(a);\n",
              "      a.click();\n",
              "      div.remove();\n",
              "    }\n",
              "  "
            ],
            "text/plain": [
              "<IPython.core.display.Javascript object>"
            ]
          },
          "metadata": {
            "tags": []
          }
        },
        {
          "output_type": "display_data",
          "data": {
            "application/javascript": [
              "download(\"download_3835a21f-8565-4f07-84f1-0ac9f8af9217\", \"test2.zip\", 2499596)"
            ],
            "text/plain": [
              "<IPython.core.display.Javascript object>"
            ]
          },
          "metadata": {
            "tags": []
          }
        }
      ]
    }
  ]
}